{
  "nbformat": 4,
  "nbformat_minor": 0,
  "metadata": {
    "colab": {
      "provenance": []
    },
    "kernelspec": {
      "name": "python3",
      "display_name": "Python 3"
    },
    "language_info": {
      "name": "python"
    }
  },
  "cells": [
    {
      "cell_type": "code",
      "execution_count": 13,
      "metadata": {
        "colab": {
          "base_uri": "https://localhost:8080/"
        },
        "id": "GZiETpDjPwdt",
        "outputId": "0faeef98-41da-4c7e-87f4-59ff901b4f41"
      },
      "outputs": [
        {
          "output_type": "stream",
          "name": "stdout",
          "text": [
            "侍太郎\n",
            "36\n"
          ]
        }
      ],
      "source": [
        "class Human:\n",
        "    # コンストラクタを定義する\n",
        "    def __init__(self, name, age):\n",
        "        self.name = name\n",
        "        self.age = age\n",
        "\n",
        "    # メソッドを定義する\n",
        "    def show_data(self):\n",
        "        print(self.name)\n",
        "        print(self.age)\n",
        "\n",
        "  # インスタンス化する\n",
        "user = Human(\"侍太郎\", 36)\n",
        "\n",
        "  # メソッドにアクセスして実行する\n",
        "user.show_data()"
      ]
    }
  ]
}