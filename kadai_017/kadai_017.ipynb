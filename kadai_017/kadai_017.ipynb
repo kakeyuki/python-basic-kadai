{
  "nbformat": 4,
  "nbformat_minor": 0,
  "metadata": {
    "colab": {
      "provenance": []
    },
    "kernelspec": {
      "name": "python3",
      "display_name": "Python 3"
    },
    "language_info": {
      "name": "python"
    }
  },
  "cells": [
    {
      "cell_type": "code",
      "execution_count": 18,
      "metadata": {
        "colab": {
          "base_uri": "https://localhost:8080/"
        },
        "id": "kKc5ytsJpNww",
        "outputId": "40e68507-92f0-4b8b-9f5c-ab54af28ff17"
      },
      "outputs": [
        {
          "output_type": "stream",
          "name": "stdout",
          "text": [
            "侍太郎さんは大人です。\n",
            "侍一郎さんは大人です。\n",
            "侍二郎さんは大人ではないです。\n",
            "侍三郎さんは大人です。\n",
            "侍四郎さんは大人ではないです。\n",
            "侍花子さんは大人です。\n",
            "侍一花さんは大人です。\n",
            "侍二花さんは大人ではないです。\n",
            "侍三花さんは大人ではないです。\n",
            "侍四花さんは大人です。\n"
          ]
        }
      ],
      "source": [
        "# クラスを作成する\n",
        "class Human:\n",
        "\n",
        "    # コンストラクタを定義する\n",
        "    def __init__(self, name, age):\n",
        "        self.name = name\n",
        "        self.age = age\n",
        "\n",
        "    # ageが20以上かどうかを判定するメソッドを定義する\n",
        "    def check_adult(self):\n",
        "        if(self.age >= 20):\n",
        "           print(f\"{self.name}さんは大人です。\")\n",
        "        else:\n",
        "          print(f\"{self.name}さんは大人ではないです。\")\n",
        "\n",
        "# インスタンス化する\n",
        "human1 = Human(\"侍太郎\", 36)\n",
        "human2 = Human(\"侍一郎\", 24)\n",
        "human3 = Human(\"侍二郎\", 15)\n",
        "human4 = Human(\"侍三郎\", 60)\n",
        "human5 = Human(\"侍四郎\", 2)\n",
        "human6 = Human(\"侍花子\", 35)\n",
        "human7 = Human(\"侍一花\", 22)\n",
        "human8 = Human(\"侍二花\", 10)\n",
        "human9 = Human(\"侍三花\", 5)\n",
        "human10 = Human(\"侍四花\", 50)\n",
        "\n",
        "# リストを作成する\n",
        "humans = [human1,\n",
        "          human2,\n",
        "          human3,\n",
        "          human4,\n",
        "          human5,\n",
        "          human6,\n",
        "          human7,\n",
        "          human8,\n",
        "          human9,\n",
        "          human10]\n",
        "\n",
        "# 配列の要素の数だけcheck_adultメソッドを呼び出す\n",
        "for human in humans:\n",
        "  human.check_adult()"
      ]
    },
    {
      "cell_type": "code",
      "source": [],
      "metadata": {
        "id": "QVv_kZM0vCBU"
      },
      "execution_count": null,
      "outputs": []
    }
  ]
}