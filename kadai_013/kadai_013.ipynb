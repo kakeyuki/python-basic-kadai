{
  "nbformat": 4,
  "nbformat_minor": 0,
  "metadata": {
    "colab": {
      "provenance": []
    },
    "kernelspec": {
      "name": "python3",
      "display_name": "Python 3"
    },
    "language_info": {
      "name": "python"
    }
  },
  "cells": [
    {
      "cell_type": "code",
      "execution_count": 3,
      "metadata": {
        "colab": {
          "base_uri": "https://localhost:8080/"
        },
        "id": "xlRGLr9YrUOp",
        "outputId": "fd4a4034-1076-4043-b87e-b430b5f0bb26"
      },
      "outputs": [
        {
          "output_type": "stream",
          "name": "stdout",
          "text": [
            "1650.0000000000002\n"
          ]
        }
      ],
      "source": [
        "#与えられた金額$priceに消費税$taxを加算し、その値を出力する関数を定義する\n",
        "def calculate_total(price, tax):\n",
        "  total = price * (1 + (tax / 100))\n",
        "  print(total)\n",
        "\n",
        "#関数を呼び出す\n",
        "calculate_total(1500, 10)"
      ]
    }
  ]
}