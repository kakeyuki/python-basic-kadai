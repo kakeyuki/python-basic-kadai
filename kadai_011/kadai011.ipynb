{
  "nbformat": 4,
  "nbformat_minor": 0,
  "metadata": {
    "colab": {
      "provenance": []
    },
    "kernelspec": {
      "name": "python3",
      "display_name": "Python 3"
    },
    "language_info": {
      "name": "python"
    }
  },
  "cells": [
    {
      "cell_type": "code",
      "execution_count": 3,
      "metadata": {
        "colab": {
          "base_uri": "https://localhost:8080/"
        },
        "id": "hg94iaThjnvO",
        "outputId": "a77766dc-33a2-4d87-9747-30bb480b6a2a"
      },
      "outputs": [
        {
          "output_type": "stream",
          "name": "stdout",
          "text": [
            "水\n",
            "金\n",
            "地\n",
            "火\n",
            "木\n",
            "土\n",
            "天\n",
            "海\n",
            "冥\n",
            "水\n",
            "金\n",
            "地\n",
            "火\n",
            "木\n",
            "土\n",
            "天\n",
            "海\n",
            "冥\n"
          ]
        }
      ],
      "source": [
        "# arrayという配列を用意する\n",
        "array = [\"水\", \"金\", \"地\", \"火\", \"木\", \"土\", \"天\", \"海\", \"冥\"]\n",
        "\n",
        "#for文を用いて、配列の中身を取り出す\n",
        "for planet in array:\n",
        "    print(planet)\n",
        "\n",
        "#while文を用いて、配列の中身を取り出す\n",
        "i = 0\n",
        "while i <= 8:\n",
        "  print(array[i])\n",
        "  i = i + 1"
      ]
    }
  ]
}